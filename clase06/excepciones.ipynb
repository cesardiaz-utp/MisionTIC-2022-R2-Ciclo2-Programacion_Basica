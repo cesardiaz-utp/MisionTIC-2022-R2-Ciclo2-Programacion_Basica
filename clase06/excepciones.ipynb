{
 "cells": [
  {
   "cell_type": "markdown",
   "metadata": {},
   "source": [
    "# Manejo de excepciones en Java\n",
    "```Java\n",
    "try {\n",
    "  //Código que puede provocar errores\n",
    "} catch(Tipo1 var1) {\n",
    "  //Gestión del error de tipo Tipo1\n",
    "} catch(Tipo2 | Tipo3 | Tipo4 var) {\n",
    "  //Gestión del error de tipo Tipo2,\n",
    "  // Tipo3 o Tipo4\n",
    "} catch(TipoN  varN) {\n",
    "  //Gestión del error de tipo TipoN\n",
    "} finally {\n",
    "  //Código de finally\n",
    "}\n",
    "```"
   ]
  },
  {
   "cell_type": "markdown",
   "metadata": {},
   "source": [
    "## Excepciones\n",
    "- Es un evento que ocurre durante la ejecución de un programa, y que interrumpe el flujo normal de instrucciones.\n",
    "- Sirven para informar que se ha producido una situación extraña y que debe tratarse.\n",
    "- Mejor que comprobar valores de retorno."
   ]
  },
  {
   "cell_type": "code",
   "execution_count": null,
   "metadata": {},
   "outputs": [],
   "source": [
    "int [] array = new int[20];\n",
    "array[-3] = 24;"
   ]
  },
  {
   "cell_type": "code",
   "execution_count": null,
   "metadata": {},
   "outputs": [],
   "source": [
    "int b = 0;\n",
    "int a = 23/b;"
   ]
  },
  {
   "cell_type": "code",
   "execution_count": null,
   "metadata": {},
   "outputs": [],
   "source": [
    "\n",
    "int [] array = new int[20];\n",
    "try {\n",
    "  array[-3] = 24;\n",
    "  int b = 0;\n",
    "  int a = 23/b;\n",
    "} catch(ArrayIndexOutOfBoundsException | ArithmeticException ex) {\n",
    "  System.out.println(\"Error de índice en un array\");\n",
    "}"
   ]
  },
  {
   "cell_type": "markdown",
   "metadata": {},
   "source": [
    "## Captura de Excepciones\n",
    "- Es un mecanismo consistente en el uso de bloques **try/catch/finally**.\n",
    "- El manejo de excepciones se logra con el bloque **try**.\n",
    "- El bloque try puede manejar múltiples excepciones.\n",
    "- La cláusula **finally** es ejecutada con posterioridad cualquiera sea la condición de término del **try** (sin o con error). Esta sección permite dejar las cosas consistentes antes del término del bloque **try**."
   ]
  },
  {
   "cell_type": "markdown",
   "metadata": {},
   "source": [
    "## Tipos de Excepciones\n",
    "- Las hay de dos tipos\n",
    "  - Aquellas generadas por el lenguaje Java. Éstas se generan cuando hay errores de ejecución, como al tratar de acceder a métodos de una referencia no asignada a un objeto, división por cero, etc.\n",
    "  - Aquellas no generadas por el lenguaje, sino incluidas por el programador.\n",
    "- El compilador chequea por la captura de las excepciones lanzadas por los objetos usados en el código.\n",
    "- Si una excepción no es capturada debe ser relanzada.\n",
    "\n",
    "![Tipos de Excepciones](https://rollbar.com/wp-content/uploads/2021/07/java-exceptions-hierarchy-example.png)"
   ]
  },
  {
   "cell_type": "markdown",
   "metadata": {},
   "source": [
    "## Excepciones **checked** y **unchecked**\n",
    "![Excepciones checked y unchecked](https://cdn.codegym.cc/images/article/36a3a00d-9faa-458b-82fb-91aecef9b5bd/1024.jpeg)\n",
    "\n",
    "### checked\n",
    "Si un método genera (throw) o propaga una excepción checked, debe declararlo (throws) en su firma.\n",
    "\n",
    "### unchecked\n",
    "No es necesario que un método declare (throws) las excepciones unchecked que genera (throw) o propaga (aunque puede hacerlo)\n"
   ]
  },
  {
   "cell_type": "markdown",
   "metadata": {},
   "source": [
    "## Lanzando Excepciones\n",
    "- Siempre es posible lanzar alguna excepción de las ya definidas en Java .\n",
    "- Para que un _método_ pueda propagar una excepción es necesario decirle los tipos de excepción que puede lanzar luego de la palabra **throws**.\n",
    "- Para lanzar una excepción, se usa la palabra **throw** y el objeto de excepción a lanzar."
   ]
  },
  {
   "cell_type": "code",
   "execution_count": null,
   "metadata": {},
   "outputs": [],
   "source": [
    "public void doIo1 (InputStream in, OutputStream out) throws IOException {\n",
    "  int c;\n",
    "  while ((c=in.read()) >=0 ) {\n",
    "    c = Character.toLowerCase((char) c);\n",
    "    out.write( c );\n",
    "  }\n",
    "}"
   ]
  },
  {
   "cell_type": "code",
   "execution_count": null,
   "metadata": {},
   "outputs": [],
   "source": [
    "public void doIo2 (InputStream in, OutputStream out) throws Throwable {\n",
    "  int c;\n",
    "  try {\n",
    "    while ((c=in.read()) >=0 ) {\n",
    "      c = Character.toLowerCase((char) c);\n",
    "      out.write( c );\n",
    "    }\n",
    "  } catch (Throwable t) {\n",
    "    throw t;\n",
    "  }\n",
    "}"
   ]
  },
  {
   "cell_type": "markdown",
   "metadata": {},
   "source": [
    "## Creando nuevas Excepciones\n",
    "- También se puede definir nuevas excepciones creando clases derivadas de las clases Error o Exception.\n",
    "- Para definir excepciones **checked**, lo aconsejable es derivarlas de la clase **Exception**.\n",
    "- Para definir excepciones **unchecked**, lo aconsejable es derivarlas de la clase **RuntimeException**."
   ]
  },
  {
   "cell_type": "code",
   "execution_count": null,
   "metadata": {},
   "outputs": [],
   "source": [
    "public class ZeroDenominatorException extends Exception {\n",
    "    private int n;\n",
    "    \n",
    "    public ZeroDenominadorException () {}\n",
    "\n",
    "    public ZeroDenominadorException(String s) {\n",
    "      super(s);\n",
    "    }\n",
    "\n",
    "    public setNumerator(int n) { \n",
    "        this.n = n;\n",
    "    }\n",
    "}"
   ]
  },
  {
   "cell_type": "code",
   "execution_count": null,
   "metadata": {},
   "outputs": [],
   "source": [
    "public void fraction(int n, int d) throws ZeroDenominatorException {\n",
    "  if (d == 0) {\n",
    "    var myExc = new ZeroDenominatorException(\"Fraction: Fraction with 0 denominator?\");\n",
    "    myExc.setNumerator(n);\n",
    "    throw myExc;\n",
    "  }\n",
    "  ...\n",
    "}"
   ]
  }
 ],
 "metadata": {
  "kernelspec": {
   "display_name": "Java",
   "language": "java",
   "name": "java"
  },
  "language_info": {
   "name": "java"
  },
  "orig_nbformat": 4
 },
 "nbformat": 4,
 "nbformat_minor": 2
}
