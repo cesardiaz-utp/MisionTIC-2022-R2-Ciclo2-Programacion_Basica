{
 "cells": [
  {
   "cell_type": "markdown",
   "metadata": {},
   "source": [
    "# Java Collection Framework"
   ]
  },
  {
   "cell_type": "markdown",
   "metadata": {},
   "source": [
    "- Es como se conoce a la librería de clases contenedoras de Java que podemos encontrar en el paquete estándar `java.util`. \n",
    "- Estas clases sirven para almacenar colecciones de objetos, como listas, conjuntos, mapas, …\n",
    "- Todas estas clases permiten guardar en ellas referencias a objetos\n",
    "\n",
    "![Java Collections Framework](https://chercher.tech/images/java-programming/java-collection-architecture.png)"
   ]
  },
  {
   "cell_type": "code",
   "execution_count": null,
   "metadata": {},
   "outputs": [],
   "source": [
    "// Lista de enteros.\n",
    "// Puede haber enteros repetidos en la lista:\n",
    "List<Integer> listaDeManzanas;  \n",
    "\n",
    "// Conjunto de enteros. \n",
    "// No puede haber enteros repetidos:\n",
    "Set<Integer> conjuntoDeNaranjas;\n",
    "\n",
    "// Un mapa que asocia a una cadena un entero,\n",
    "// como en una lista de notas de un examen:\n",
    "//    [(\"Juan Goytisolo\", 9.5), \n",
    "//     (\"Pablo Iglesias\", 5.0), ...]\n",
    "Map<String, Double> mapaDeNotas;"
   ]
  },
  {
   "cell_type": "markdown",
   "metadata": {},
   "source": [
    "## Listas"
   ]
  },
  {
   "cell_type": "markdown",
   "metadata": {},
   "source": [
    "- Llamamos **lista** a cualquier colección de objetos ordenados por posición, como en un array. \n",
    "- En una lista podemos añadir elementos, acceder a ellos por su posición en la lista, eliminar elementos de la lista y otras operaciones, como vaciar la lista, copiarla, etc. \n",
    "- En una lista puede haber objetos repetidos, es decir, objetos que son iguales según el método **equals()** de su clase.\n",
    "\n",
    "### Implementaciones\n",
    "- **ArrayList**: Guarda una lista de elementos en un array de tamaño dinámico.\n",
    "- **LinkedList**: Permite inserción y borrado de elementos de la lista.\n",
    "- **Vector**: Aumenta o reduce su tamaño de forma dinámica.\n",
    "- **Stack**: Representa una pila de objetos de último en entrar, primero en salir (LIFO)."
   ]
  },
  {
   "cell_type": "markdown",
   "metadata": {},
   "source": [
    "## Conjuntos"
   ]
  },
  {
   "cell_type": "markdown",
   "metadata": {},
   "source": [
    "- Llamamos **conjunto** a cualquier colección de objetos de la misma clase sin ningún orden en particular. \n",
    "- Cada elemento sólo aparece una vez, al contrario que en una lista, donde podían repetirse.\n",
    "\n",
    "### Implementaciones\n",
    "- **HashSet**: Usa _tablas hash_ para acelerar la búsqueda, adición y eliminación de elementos.\n",
    "- **LinkedHashSet**: Es una versión ordenada de HashSet que mantiene una lista doblemente vinculada en todos los elementos..\n",
    "- **TreeSet**: Usa un árbol binario para acelerar la búsqueda, adición y eliminación de elementos."
   ]
  },
  {
   "cell_type": "markdown",
   "metadata": {},
   "source": [
    "## Colas"
   ]
  },
  {
   "cell_type": "markdown",
   "metadata": {},
   "source": [
    "- La **Cola (Queue)** se utiliza para insertar elementos al final de la cola y los elimina desde el principio de la cola.\n",
    "- El **Deque** representa una cola de dos extremos, es decir, una cola en la que puede agregar y eliminar elementos de ambos extremos.\n",
    "\n",
    "### Implementaciones\n",
    "- **PriorityQueue**: Implementación del algoritmo de cola.\n",
    "- **LinkedList**: Permite inserción y borrado de elementos de la lista. Implementa la interface Deque.\n",
    "- **ArrayDeque**: Proporciona una forma de aplicar array de tamaño dinámico, además de la implementación de la interfaz Deque."
   ]
  },
  {
   "cell_type": "markdown",
   "metadata": {},
   "source": [
    "## Mapas"
   ]
  },
  {
   "cell_type": "markdown",
   "metadata": {},
   "source": [
    "- Los mapas permiten establecer una correspondencia entre pares de objetos: uno que actúa como clave y otro como valor asociado a esa clave. \n",
    "- Un diccionario es un mapa entre cadenas de texto: la palabra que buscamos en el diccionario actúa como clave y su significado como valor asociado.\n",
    "\n",
    "### Implementaciones:\n",
    "- **Hashtable**: Es una estructura de datos que utiliza una función hash. Ya no es usado..\n",
    "- **HashMap**: Almacena pares clave / valor en una tabla hash, y no están ordenados de ninguna manera..\n",
    "- **LinkedHashMap**: Agrega una lista vinculada a la estructura del HashMap.\n",
    "- **TreeMap**: Es implementado como un árbol Rojo-Negro, un tipo de árbol binario de búsqueda equilibrada.."
   ]
  }
 ],
 "metadata": {
  "kernelspec": {
   "display_name": "Java",
   "language": "java",
   "name": "java"
  },
  "language_info": {
   "name": "java"
  },
  "orig_nbformat": 4
 },
 "nbformat": 4,
 "nbformat_minor": 2
}
